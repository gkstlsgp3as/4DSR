{
 "cells": [
  {
   "cell_type": "code",
   "execution_count": 13,
   "metadata": {},
   "outputs": [],
   "source": [
    "import os\n",
    "import numpy as np\n",
    "import random\n",
    "import shutil\n",
    "from pathlib import Path"
   ]
  },
  {
   "cell_type": "code",
   "execution_count": 12,
   "metadata": {},
   "outputs": [],
   "source": [
    "path = '/home/data/4DRADAR/super_resolution/super_resolution_data/4DSR/Training/Retina/'\n",
    "\n",
    "random.seed(1004)\n",
    "\n",
    "fl_list = os.listdir(path)\n",
    "random.shuffle(fl_list)\n",
    "\n",
    "valid_num = round(len(fl_list)*0.1)\n",
    "valid_set = fl_list[:valid_num]\n",
    "test_set = fl_list[valid_num:valid_num*2]\n",
    "train_set = fl_list[valid_num*2:]\n",
    "\n",
    "folder_name = ['Validation', 'Test']"
   ]
  },
  {
   "cell_type": "code",
   "execution_count": 19,
   "metadata": {},
   "outputs": [],
   "source": [
    "for _s, sets in enumerate([test_set, valid_set]):\n",
    "\tfor img in sets:\n",
    "\t\tshutil.move(Path(path, img), Path(path.replace('Training', folder_name[_s]), img))\n",
    "\t\tshutil.move(Path(path.replace('Retina', 'Zed'), img.replace('Retina', 'Zed')), Path(path.replace('Retina', 'Zed').replace('Training', folder_name[_s]), img.replace('Retina', 'Zed')))\n",
    "\t\t#print(Path(path.replace('Retina', 'Zed'), img.replace('Retina', 'Zed')), Path(path.replace('Retina', 'Zed').replace('Training', folder_name[_s]), img.replace('Retina', 'Zed')))"
   ]
  },
  {
   "cell_type": "code",
   "execution_count": null,
   "metadata": {},
   "outputs": [],
   "source": []
  }
 ],
 "metadata": {
  "kernelspec": {
   "display_name": "rot_det",
   "language": "python",
   "name": "python3"
  },
  "language_info": {
   "codemirror_mode": {
    "name": "ipython",
    "version": 3
   },
   "file_extension": ".py",
   "mimetype": "text/x-python",
   "name": "python",
   "nbconvert_exporter": "python",
   "pygments_lexer": "ipython3",
   "version": "3.9.19"
  }
 },
 "nbformat": 4,
 "nbformat_minor": 2
}
